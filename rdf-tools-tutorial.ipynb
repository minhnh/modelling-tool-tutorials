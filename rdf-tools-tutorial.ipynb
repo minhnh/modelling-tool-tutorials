{
 "cells": [
  {
   "cell_type": "markdown",
   "id": "ec4f4cce-3bc1-49e2-bfc7-31c4bb71e088",
   "metadata": {},
   "source": [
    "# Tutorial on Using RDF Tools for Model-Based Methods\n",
    "\n",
    "## Introduction\n",
    "\n",
    "Among many others, the [World Wide Web Consortium (W3C)](https://www.w3.org/) drives the development of several standards and tools for capturing [linked data](https://www.w3.org/DesignIssues/LinkedData) in the web.\n",
    "In this tutorial, we will explore how these tools can be used for [modelling](https://en.wikipedia.org/wiki/Model-driven_engineering) domains, specifically to represent geometric concepts.\n",
    "We also discuss how to leverage the power of these tools for creating _composable_ models.\n",
    "A more detailed discussion on the design principles for developing composable models can be found [here](https://github.com/comp-rob2b/modelling-tutorial?tab=readme-ov-file#discussion-about-composable-models)."
   ]
  },
  {
   "cell_type": "markdown",
   "id": "98bdb715-fa02-4ce4-b18f-aa66ae970fac",
   "metadata": {},
   "source": [
    "## Technologies\n",
    "\n",
    "### Standards\n",
    "\n",
    "- [Resource Description Framework (RDF)](https://www.w3.org/TR/rdf11-concepts/): framework for representing information on the Web\n",
    "- [Turtle](https://www.w3.org/TR/turtle/): Terse RDF Triple Language, a textual syntax for RDF (other syntaxes, e.g. [XML](https://www.w3.org/TR/rdf12-xml/), also available)\n",
    "- [JSON-LD](https://www.w3.org/TR/json-ld11/): JSON-based format to serialize Linked Data\n",
    "- [SPARQL](https://www.w3.org/TR/sparql11-overview/): Query language for RDF graphs\n",
    "- [Shapes Constraint Language (SHACL)](https://www.w3.org/TR/shacl/): Language for specifying structural constraints of RDF graphs\n",
    "\n",
    "### Python libraries"
   ]
  },
  {
   "cell_type": "code",
   "execution_count": 1,
   "id": "5e6fc5db-7272-40cb-acdb-df4153ce61e9",
   "metadata": {},
   "outputs": [],
   "source": [
    "import rdflib              # https://rdflib.readthedocs.io/en/stable/\n",
    "import pyshacl             # https://github.com/RDFLib/pySHACL\n",
    "from pyld import jsonld    # https://github.com/digitalbazaar/pyld\n"
   ]
  },
  {
   "cell_type": "markdown",
   "id": "1854545b-7767-4637-b2f4-1ce20160a518",
   "metadata": {},
   "source": [
    "## Model specification\n",
    "\n",
    "### RDF Graphs\n",
    "\n",
    "![](https://www.w3.org/TR/rdf11-concepts/rdf-graph.svg)\n",
    "\n",
    "Both JSON-LD and the Turtle conforms to the RDF syntax, in which a graph is defined as a set of triples `(subject, predicate, object)`, where `object` can be literals or pointers to other nodes in the form of [Internationalized Resource Identifiers (IRIs)](https://datatracker.ietf.org/doc/html/rfc3987) (and blank nodes, but we ignore those in this context).\n",
    "\n",
    "The following code snippet shows how the same graph (describing 2 points and their relative position) can be represented using JSON-LD and Turtle.\n",
    "Notable syntactic elements in the example:\n",
    "- The [`@context`](https://www.w3.org/TR/json-ld11/#the-context) in JSON-LD, in essence, defines the vocabularies for the specifying the graphs, including the predicates/relations, types, prefixes\n",
    "- `@prefix` in Turtle and IRI replacement in the JSON-LD `@context` (e.g. `geom`) allows the use of [compact IRI](https://www.w3.org/TR/json-ld11/#compact-iris) in the form of `<prefix>:<suffix>`\n",
    "- A `\"@type\": \"@id\"` predicate denotes that the predicate should point to an IRI, or another node in the graph\n",
    "- The IRI specified by `@base` will be used as prefix if none is provided for a JSON object/node, e.g. `box-origin`\n",
    "- [XML Schema Datatypes](https://www.w3.org/TR/swbp-xsch-datatypes/)(`xsd`) in the graph allows introducing literals like double, string, ..."
   ]
  },
  {
   "cell_type": "code",
   "execution_count": 2,
   "id": "afeed5da-a25c-4423-a3c2-c2a19cff33af",
   "metadata": {},
   "outputs": [
    {
     "name": "stdout",
     "output_type": "stream",
     "text": [
      "@prefix geom: <https://my-url.com/metamodel/geometry#> .\n",
      "@prefix xsd: <http://www.w3.org/2001/XMLSchema#> .\n",
      "\n",
      "<https://my-url.com/model/tutorial/box-distance> a geom:PositionLength ;\n",
      "    geom:length 1e+01 ;\n",
      "    geom:of-position <https://my-url.com/model/tutorial/position-box-table> .\n",
      "\n",
      "<https://my-url.com/model/tutorial/box-origin> a geom:Point .\n",
      "\n",
      "<https://my-url.com/model/tutorial/position-box-table> a geom:Position ;\n",
      "    geom:of-point <https://my-url.com/model/tutorial/box-origin> ;\n",
      "    geom:with-respect-to-point <https://my-url.com/model/tutorial/table-origin> .\n",
      "\n",
      "<https://my-url.com/model/tutorial/table-origin> a geom:Point .\n",
      "\n",
      "\n"
     ]
    }
   ],
   "source": [
    "jsonld_graph_str = \"\"\"\n",
    "{\n",
    "    \"@context\": {\n",
    "        \"@base\": \"https://my-url.com/model/tutorial/\",\n",
    "        \"xsd\": \"http://www.w3.org/2001/XMLSchema#\",\n",
    "\n",
    "        \"geom\": \"https://my-url.com/metamodel/geometry#\",\n",
    "        \"of-point\": { \"@id\": \"geom:of-point\", \"@type\": \"@id\" },\n",
    "        \"wrt-point\": { \"@id\": \"geom:with-respect-to-point\", \"@type\": \"@id\" },\n",
    "        \"of-position\": { \"@id\": \"geom:of-position\", \"@type\": \"@id\" },\n",
    "        \"length\": { \"@id\": \"geom:length\", \"@type\": \"xsd:double\" }\n",
    "    },\n",
    "    \"@graph\": [\n",
    "        { \"@id\": \"box-origin\", \"@type\": \"geom:Point\" },\n",
    "        { \"@id\": \"table-origin\", \"@type\": \"geom:Point\" },\n",
    "        {\n",
    "            \"@id\": \"position-box-table\", \"@type\": \"geom:Position\",\n",
    "            \"of-point\": \"box-origin\", \"wrt-point\": \"table-origin\"\n",
    "        },\n",
    "        {\n",
    "            \"@id\": \"box-distance\", \"@type\": \"geom:PositionLength\",\n",
    "            \"of-position\": \"position-box-table\", \"length\": 10\n",
    "        }\n",
    "    ]\n",
    "}\n",
    "\"\"\"\n",
    "\n",
    "position_graph = rdflib.Graph()\n",
    "position_graph.parse(data=jsonld_graph_str, format=\"json-ld\")\n",
    "print(position_graph.serialize(format=\"turtle\"))"
   ]
  },
  {
   "cell_type": "markdown",
   "id": "70bb2498-0679-4467-9431-1bd191d034ed",
   "metadata": {},
   "source": [
    "### Metamodeling\n",
    "\n",
    "Metamodeling is a model-driven method, where a model of models (i.e. metamodel) is identified for a domain.\n",
    "In the example, the geometry metamodel includes the `Point`, `Position` concepts and the `of-point`, `wrt-point` relations.\n",
    "The graph then specify the model `postion-box-table`, which is a `Position` of `Point` `box-origin` (via relation `of-point`) with respect to `Point` `table-origin` (relation `wrt-point`).\n",
    "\n",
    "Using JSON-LD, the metamodel is then generally introduced via the `@context`, whereas the model is in the `@graph`.\n",
    "Compared to JSON-LD, the Turtle format doesn't include explicit definition of the relations between nodes, e.g. `geom:of-position`.\n",
    "\n",
    "### What makes it composable?\n",
    "\n",
    "Example: different coordinate systems:"
   ]
  },
  {
   "cell_type": "code",
   "execution_count": 3,
   "id": "165f1c13-3e35-49ff-a2b5-f5284987eae9",
   "metadata": {},
   "outputs": [
    {
     "data": {
      "text/plain": [
       "<Graph identifier=N244309afa47946d6b313dbd6fcda5dbb (<class 'rdflib.graph.Graph'>)>"
      ]
     },
     "execution_count": 3,
     "metadata": {},
     "output_type": "execute_result"
    }
   ],
   "source": [
    "jsonld_coordinate_extension = \"\"\"\n",
    "{\n",
    "    \"@context\": {\n",
    "        \"@base\": \"https://my-url.com/model/tutorial/\",\n",
    "\n",
    "        \"geom\": \"https://my-url.com/metamodel/geometry#\",\n",
    "        \"origin\": { \"@id\": \"geom:origin\", \"@type\": \"@id\" },\n",
    "        \"of-position\": { \"@id\": \"geom:of-position\", \"@type\": \"@id\" },\n",
    "        \"as-seen-by\": { \"@id\": \"geom:as-seen-by\", \"@type\": \"@id\" },\n",
    "        \"x\": { \"@id\": \"geom:x\", \"@type\": \"xsd:double\" },\n",
    "        \"y\": { \"@id\": \"geom:y\", \"@type\": \"xsd:double\" },\n",
    "        \"z\": { \"@id\": \"geom:z\", \"@type\": \"xsd:double\" }\n",
    "    },\n",
    "    \"@graph\": [\n",
    "        { \"@id\": \"frame-table\", \"@type\": \"geom:Frame\", \"origin\": \"table-origin\" },\n",
    "        {\n",
    "            \"@id\": \"position-coord-box-table\",\n",
    "            \"@type\": [ \"geom:PositionReference\", \"geom:PositionCoordinate\", \"geom:VectorXYZ\" ],\n",
    "            \"of-position\": \"position-box-table\",\n",
    "            \"as-seen-by\": \"frame-table\",\n",
    "            \"x\": -0.000648,\n",
    "            \"y\": -0.000166,\n",
    "            \"z\":  0.084487\n",
    "        }\n",
    "    ]\n",
    "}\n",
    "\"\"\"\n",
    "position_graph.parse(data=jsonld_coordinate_extension, format=\"json-ld\")"
   ]
  },
  {
   "cell_type": "markdown",
   "id": "2b3714a7-3bed-437a-b0d1-0cbafca59985",
   "metadata": {},
   "source": [
    "The second JSON-LD graph extends the first graph by choosing the Cartesian coordinate system and a specific data format to concretely represent the position relation.\n",
    "This way of modelling the relation allows enriching the models of `position-box-table` without having to modifying the original graph.\n",
    "For example, other coordinate systems, e.g. cylindrical, or data format, e.g. an array of 3 numbers instead of `x,y,z`, can be introduced simply by excluding the above graph and loading another one.\n",
    "This follows the [_multi-conformance_ and _open-world assumption_ principles](https://github.com/comp-rob2b/modelling-tutorial?tab=readme-ov-file#discussion-about-composable-models) of designing composable models.\n",
    "\n",
    "Notes:\n",
    "- Comparable to interfaces or plugins, as opposed to inheritance patterns\n",
    "- Composability refers to principles: **JSON-LD models can be uncomposable**!"
   ]
  },
  {
   "cell_type": "markdown",
   "id": "c883f06c-b1fd-4f0b-b5c9-b8c313ed31f4",
   "metadata": {},
   "source": [
    "## Querying the graph\n",
    "\n",
    "### Searching through the paths\n",
    "\n",
    "The [SPARQL](https://www.w3.org/TR/sparql11-overview/) standard specifies the query language for retrieving information from and manipulating RDF graphs.\n",
    "A SPARQL query enforces some structural constraints on the graph, in the sense that invalid graphs would not result in a match.\n",
    "\n",
    "The following example shows the different queries to construct a graph that links `position-box-table` to `frame-table` frame of reference.\n",
    "The query follows the triple construct for RDF graphs, and `?x` denotes variables."
   ]
  },
  {
   "cell_type": "code",
   "execution_count": 4,
   "id": "96a8410c-e583-4133-a2ed-386c09839052",
   "metadata": {},
   "outputs": [
    {
     "name": "stdout",
     "output_type": "stream",
     "text": [
      "\n",
      "search Position first + chaining\n",
      "Query time: 0.08451 seconds\n",
      "[{'@id': 'https://my-url.com/model/tutorial/position-box-table',\n",
      "  'https://my-url.com/metamodel/geometry#as-seen-by': [{'@id': 'https://my-url.com/model/tutorial/frame-table'}]}]\n",
      "\n",
      "search Position first\n",
      "Query time: 0.00375 seconds\n",
      "[{'@id': 'https://my-url.com/model/tutorial/position-box-table',\n",
      "  'https://my-url.com/metamodel/geometry#as-seen-by': [{'@id': 'https://my-url.com/model/tutorial/frame-table'}]}]\n",
      "\n",
      "search Position first + chaining\n",
      "Query time: 0.00290 seconds\n",
      "[{'@id': 'https://my-url.com/model/tutorial/position-box-table',\n",
      "  'https://my-url.com/metamodel/geometry#as-seen-by': [{'@id': 'https://my-url.com/model/tutorial/frame-table'}]}]\n"
     ]
    }
   ],
   "source": [
    "import json\n",
    "from timeit import default_timer as timer\n",
    "from pprint import pprint\n",
    "\n",
    "# queries for PositionCoordinate first\n",
    "construct_query = \"\"\"\n",
    "PREFIX geom: <https://my-url.com/metamodel/geometry#>\n",
    "\n",
    "CONSTRUCT {\n",
    "    ?position geom:as-seen-by ?frame .\n",
    "}\n",
    "WHERE {\n",
    "    ?posCoord a geom:PositionCoordinate, geom:PositionReference ;\n",
    "        geom:of-position ?position ;\n",
    "        geom:as-seen-by ?frame .\n",
    "}\n",
    "\"\"\"\n",
    "start = timer()\n",
    "q_res = position_graph.query(construct_query)\n",
    "end = timer()\n",
    "res_json = json.loads(q_res.serialize(format='json-ld'))\n",
    "print(f\"\\nsearch Position first + chaining\\nQuery time: {end - start:.5f} seconds\")\n",
    "pprint(res_json)\n",
    "\n",
    "# queries for Position first and reverse path to the position coordinate concept, then forward path to the frame\n",
    "construct_query = \"\"\"\n",
    "PREFIX geom: <https://my-url.com/metamodel/geometry#>\n",
    "\n",
    "CONSTRUCT {\n",
    "    ?position geom:as-seen-by ?frame .\n",
    "}\n",
    "WHERE {\n",
    "    ?position a geom:Position ;\n",
    "        ^geom:of-position ?posCoord .\n",
    "    ?posCoord a geom:PositionReference ;\n",
    "        geom:as-seen-by ?frame .\n",
    "}\n",
    "\"\"\"\n",
    "start = timer()\n",
    "q_res = position_graph.query(construct_query)\n",
    "end = timer()\n",
    "res_json = json.loads(q_res.serialize(format='json-ld'))\n",
    "print(f\"\\nsearch Position first\\nQuery time: {end - start:.5f} seconds\")\n",
    "pprint(res_json)\n",
    "\n",
    "# queries for Position first and then chaining path to the frame\n",
    "construct_query = \"\"\"\n",
    "PREFIX geom: <https://my-url.com/metamodel/geometry#>\n",
    "\n",
    "CONSTRUCT {\n",
    "    ?position geom:as-seen-by ?frame .\n",
    "}\n",
    "WHERE {\n",
    "    ?position a geom:Position ;\n",
    "        ^geom:of-position / geom:as-seen-by ?frame .\n",
    "}\n",
    "\"\"\"\n",
    "start = timer()\n",
    "q_res = position_graph.query(construct_query)\n",
    "end = timer()\n",
    "res_json = json.loads(q_res.serialize(format='json-ld'))\n",
    "print(f\"\\nsearch Position first + chaining\\nQuery time: {end - start:.5f} seconds\")\n",
    "pprint(res_json)"
   ]
  },
  {
   "cell_type": "markdown",
   "id": "86a02b06-af1d-49e0-b930-8ad396a052df",
   "metadata": {},
   "source": [
    "### Some advanced matching\n",
    "`UNION`, `OPTIONAL`, `FILTER`"
   ]
  },
  {
   "cell_type": "markdown",
   "id": "decedc79-1f76-431f-9bac-5b03cfb337d5",
   "metadata": {},
   "source": [
    "## Framing"
   ]
  },
  {
   "cell_type": "code",
   "execution_count": null,
   "id": "73e1cb58-4f89-4dc6-ab30-ead30c1b8405",
   "metadata": {},
   "outputs": [],
   "source": []
  },
  {
   "cell_type": "markdown",
   "id": "e79da4e0-2c95-4cf6-9ef0-5c066060c722",
   "metadata": {},
   "source": [
    "## Structural constraints with SHACL\n",
    "\n",
    "[The Shapes Constraint Language (SHACL)](https://www.w3.org/TR/shacl/) allows specifying rules to validate an RDF graph.\n",
    "As such, SHACL allows a mean to explicitly specify structural constraints of a graph.\n",
    "SHACL models are themselves RDF graphs, and as such can be written in JSON-LD, Turtle, or any other supported formats.\n",
    "\n",
    "Two main types of constraints in SHACL are `sh:NodeShape`, for rules on nodes, and `sh:PropertyShape`, for rules on edges or properties of nodes.\n",
    "The following example shows two different ways to constrain the path from a node.\n",
    "First is specifying the path directly in the `sh:NodeShape` specification, here for the `geom:of-position` path.\n",
    "Second is by defining a `sh:PropertyShape`, e.g. `geom:as-seen-by`, and then including it in the `sh:NodeShape` for `geom:PositionCoordinate`.\n",
    "The second way allows reusing the same property `sh:PropertyShape` for different nodes.\n",
    "\n",
    "Notes:\n",
    "- Cardinality can be specified with `minCount`, `maxCount`\n",
    "- Compared to SPARQL, SHACL doesn't allow variables, which can limit its ability to specify some structural constraints, e.g. loops\n"
   ]
  },
  {
   "cell_type": "code",
   "execution_count": 5,
   "id": "805ae132-19e7-4f60-90cd-e76c2d726c90",
   "metadata": {},
   "outputs": [
    {
     "name": "stdout",
     "output_type": "stream",
     "text": [
      "validation OK!\n"
     ]
    }
   ],
   "source": [
    "shacl_str = \"\"\"\n",
    "@prefix sh: <http://www.w3.org/ns/shacl#> .\n",
    "@prefix geom: <https://my-url.com/metamodel/geometry#> .\n",
    "\n",
    "geom:PositionReferenceShape\n",
    "    a sh:NodeShape ;\n",
    "    sh:targetClass geom:PositionReference ;\n",
    "    sh:property [\n",
    "        sh:path geom:of-position ;\n",
    "        sh:class geom:Position ;\n",
    "        sh:minCount 1 ;\n",
    "        sh:maxCount 1 ;\n",
    "    ] .\n",
    "\n",
    "geom:AsSeenByShape\n",
    "    a sh:PropertyShape ;\n",
    "    sh:path geom:as-seen-by ;\n",
    "    sh:class geom:Frame ;\n",
    "    sh:minCount 1 ;\n",
    "    sh:maxCount 1 .\n",
    "\n",
    "geom:PositionCoordinateShape\n",
    "    a sh:NodeShape ;\n",
    "    sh:targetClass geom:PositionCoordinate ;\n",
    "    sh:property geom:AsSeenByShape .\n",
    "\"\"\"\n",
    "\n",
    "shacl_g = rdflib.Graph()\n",
    "shacl_g.parse(data=shacl_str, format=\"turtle\")\n",
    "conforms, _, report_text = pyshacl.validate(\n",
    "    position_graph,\n",
    "    shacl_graph=shacl_g,\n",
    "    data_graph_format=\"json-ld\",\n",
    "    shacl_graph_format=\"ttl\",\n",
    "    inference=\"rdfs\",\n",
    ")\n",
    "\n",
    "if conforms:\n",
    "    print(\"validation OK!\")\n",
    "else:\n",
    "    print(\"Invalid graph:\\n\\n\" + report_text)\n"
   ]
  },
  {
   "cell_type": "markdown",
   "id": "a72a3b75-4d2f-4f1e-948d-00abc9c33651",
   "metadata": {},
   "source": [
    "Now we try to validate an invalid graph, where\n",
    "- `geom:of-position` is pointing to a `geom:Frame` instead of a `geom:Position`, and\n",
    "- a `geom:as-seen-by` relation to a `geom:Frame` is missing\n",
    "\n",
    "These errors are described in the printed validation report!"
   ]
  },
  {
   "cell_type": "code",
   "execution_count": 6,
   "id": "c444d7ac-ff83-482b-96b7-f73b8cacfd92",
   "metadata": {},
   "outputs": [
    {
     "name": "stdout",
     "output_type": "stream",
     "text": [
      "Invalid graph:\n",
      "\n",
      "Validation Report\n",
      "Conforms: False\n",
      "Results (2):\n",
      "Constraint Violation in MinCountConstraintComponent (http://www.w3.org/ns/shacl#MinCountConstraintComponent):\n",
      "\tSeverity: sh:Violation\n",
      "\tSource Shape: geom:AsSeenByShape\n",
      "\tFocus Node: <https://my-url.com/model/tutorial/position-coord-box-table>\n",
      "\tResult Path: geom:as-seen-by\n",
      "\tMessage: Less than 1 values on <https://my-url.com/model/tutorial/position-coord-box-table>->geom:as-seen-by\n",
      "Constraint Violation in ClassConstraintComponent (http://www.w3.org/ns/shacl#ClassConstraintComponent):\n",
      "\tSeverity: sh:Violation\n",
      "\tSource Shape: [ sh:class geom:Position ; sh:maxCount Literal(\"1\", datatype=xsd:integer) ; sh:minCount Literal(\"1\", datatype=xsd:integer) ; sh:path geom:of-position ]\n",
      "\tFocus Node: <https://my-url.com/model/tutorial/position-coord-box-table>\n",
      "\tValue Node: <https://my-url.com/model/tutorial/frame-table>\n",
      "\tResult Path: geom:of-position\n",
      "\tMessage: Value does not have class geom:Position\n",
      "\n"
     ]
    }
   ],
   "source": [
    "jsonld_coordinate_invalid = \"\"\"\n",
    "{\n",
    "    \"@context\": {\n",
    "        \"@base\": \"https://my-url.com/model/tutorial/\",\n",
    "\n",
    "        \"geom\": \"https://my-url.com/metamodel/geometry#\",\n",
    "        \"origin\": { \"@id\": \"geom:origin\", \"@type\": \"@id\" },\n",
    "        \"of-position\": { \"@id\": \"geom:of-position\", \"@type\": \"@id\" },\n",
    "        \"as-seen-by\": { \"@id\": \"geom:as-seen-by\", \"@type\": \"@id\" },\n",
    "        \"x\": { \"@id\": \"geom:x\", \"@type\": \"xsd:double\" },\n",
    "        \"y\": { \"@id\": \"geom:y\", \"@type\": \"xsd:double\" },\n",
    "        \"z\": { \"@id\": \"geom:z\", \"@type\": \"xsd:double\" }\n",
    "    },\n",
    "    \"@graph\": [\n",
    "        { \"@id\": \"frame-table\", \"@type\": \"geom:Frame\", \"origin\": \"table-origin\" },\n",
    "        {\n",
    "            \"@id\": \"position-coord-box-table\",\n",
    "            \"@type\": [ \"geom:PositionReference\", \"geom:PositionCoordinate\", \"geom:VectorXYZ\" ],\n",
    "            \"of-position\": \"frame-table\"\n",
    "        }\n",
    "    ]\n",
    "}\n",
    "\"\"\"\n",
    "\n",
    "invalid_graph = rdflib.Graph()\n",
    "invalid_graph.parse(data=jsonld_graph_str, format=\"json-ld\")\n",
    "invalid_graph.parse(data=jsonld_coordinate_invalid, format=\"json-ld\")\n",
    "\n",
    "conforms, _, report_text = pyshacl.validate(\n",
    "    invalid_graph,\n",
    "    shacl_graph=shacl_g,\n",
    "    data_graph_format=\"json-ld\",\n",
    "    shacl_graph_format=\"ttl\",\n",
    "    inference=\"rdfs\",\n",
    ")\n",
    "\n",
    "if conforms:\n",
    "    print(\"validation OK!\")\n",
    "else:\n",
    "    print(\"Invalid graph:\\n\\n\" + report_text)\n",
    "\n"
   ]
  }
 ],
 "metadata": {
  "kernelspec": {
   "display_name": "Python 3 (ipykernel)",
   "language": "python",
   "name": "python3"
  },
  "language_info": {
   "codemirror_mode": {
    "name": "ipython",
    "version": 3
   },
   "file_extension": ".py",
   "mimetype": "text/x-python",
   "name": "python",
   "nbconvert_exporter": "python",
   "pygments_lexer": "ipython3",
   "version": "3.12.3"
  }
 },
 "nbformat": 4,
 "nbformat_minor": 5
}
